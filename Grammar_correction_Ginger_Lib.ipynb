{
  "nbformat": 4,
  "nbformat_minor": 0,
  "metadata": {
    "colab": {
      "name": "Untitled21.ipynb",
      "provenance": []
    },
    "kernelspec": {
      "name": "python3",
      "display_name": "Python 3"
    }
  },
  "cells": [
    {
      "cell_type": "code",
      "metadata": {
        "colab": {
          "base_uri": "https://localhost:8080/"
        },
        "id": "jyiLbf-435ho",
        "outputId": "92735cc0-76b8-4855-e121-b36fb7edcc88"
      },
      "source": [
        "pip install gingerit"
      ],
      "execution_count": 1,
      "outputs": [
        {
          "output_type": "stream",
          "text": [
            "Collecting gingerit\n",
            "  Downloading https://files.pythonhosted.org/packages/bd/ef/f66880c65391a0630bdd4ffc742c4e97c59146abf251bd764042ad1db049/gingerit-0.8.1-py3-none-any.whl\n",
            "Requirement already satisfied: requests<3.0,>=2.22 in /usr/local/lib/python3.7/dist-packages (from gingerit) (2.23.0)\n",
            "Requirement already satisfied: urllib3!=1.25.0,!=1.25.1,<1.26,>=1.21.1 in /usr/local/lib/python3.7/dist-packages (from requests<3.0,>=2.22->gingerit) (1.24.3)\n",
            "Requirement already satisfied: certifi>=2017.4.17 in /usr/local/lib/python3.7/dist-packages (from requests<3.0,>=2.22->gingerit) (2020.12.5)\n",
            "Requirement already satisfied: idna<3,>=2.5 in /usr/local/lib/python3.7/dist-packages (from requests<3.0,>=2.22->gingerit) (2.10)\n",
            "Requirement already satisfied: chardet<4,>=3.0.2 in /usr/local/lib/python3.7/dist-packages (from requests<3.0,>=2.22->gingerit) (3.0.4)\n",
            "Installing collected packages: gingerit\n",
            "Successfully installed gingerit-0.8.1\n"
          ],
          "name": "stdout"
        }
      ]
    },
    {
      "cell_type": "code",
      "metadata": {
        "id": "FFO2LiPI38dK"
      },
      "source": [
        "# code for grammar correction and spell mistake corrections."
      ],
      "execution_count": 2,
      "outputs": []
    },
    {
      "cell_type": "code",
      "metadata": {
        "id": "5FsmDMq54F-r"
      },
      "source": [
        "#Pass on any passage or paragraph for  validation"
      ],
      "execution_count": 3,
      "outputs": []
    },
    {
      "cell_type": "code",
      "metadata": {
        "id": "LuGZvsA14Gqq"
      },
      "source": [
        "# Import the package\r\n",
        "\r\n",
        "from gingerit.gingerit import GingerIt"
      ],
      "execution_count": 4,
      "outputs": []
    },
    {
      "cell_type": "code",
      "metadata": {
        "id": "0bUB8DUn4Gtn"
      },
      "source": [
        "text = 'Enland on Thursd suffered embarassing 10-wicket defeat in the third Test against India on a spin-friendly Motera track to go down 1-2 in the four-match series and the result garnered varied reactions from the British media.'"
      ],
      "execution_count": 13,
      "outputs": []
    },
    {
      "cell_type": "code",
      "metadata": {
        "id": "-SDORK5-4Gwl"
      },
      "source": [
        "#above added some text from rediff.com news with some intentional spell mistakes"
      ],
      "execution_count": 14,
      "outputs": []
    },
    {
      "cell_type": "code",
      "metadata": {
        "id": "WRg9kNFM4Gzy"
      },
      "source": [
        "result = GingerIt().parse(text)"
      ],
      "execution_count": 15,
      "outputs": []
    },
    {
      "cell_type": "code",
      "metadata": {
        "colab": {
          "base_uri": "https://localhost:8080/"
        },
        "id": "Qjr8bQF54G5u",
        "outputId": "04eb747d-91d1-4d2a-96c1-4afd166b563c"
      },
      "source": [
        "result"
      ],
      "execution_count": 16,
      "outputs": [
        {
          "output_type": "execute_result",
          "data": {
            "text/plain": [
              "{'corrections': [{'correct': 'embarrassing',\n",
              "   'definition': 'hard to deal with; especially causing pain or embarrassment',\n",
              "   'start': 26,\n",
              "   'text': 'embarassing'},\n",
              "  {'correct': 'England',\n",
              "   'definition': 'a division of the United Kingdom',\n",
              "   'start': 0,\n",
              "   'text': 'Enland'}],\n",
              " 'result': 'England on Thursd suffered embarrassing 10-wicket defeat in the third Test against India on a spin-friendly Motera track to go down 1-2 in the four-match series and the result garnered varied reactions from the British media.',\n",
              " 'text': 'Enland on Thursd suffered embarassing 10-wicket defeat in the third Test against India on a spin-friendly Motera track to go down 1-2 in the four-match series and the result garnered varied reactions from the British media.'}"
            ]
          },
          "metadata": {
            "tags": []
          },
          "execution_count": 16
        }
      ]
    },
    {
      "cell_type": "code",
      "metadata": {
        "colab": {
          "base_uri": "https://localhost:8080/"
        },
        "id": "pr9O2r2H4zPi",
        "outputId": "8729a876-f0e4-47e2-9d52-7945baaa52a6"
      },
      "source": [
        "len(result['corrections'])"
      ],
      "execution_count": 19,
      "outputs": [
        {
          "output_type": "execute_result",
          "data": {
            "text/plain": [
              "2"
            ]
          },
          "metadata": {
            "tags": []
          },
          "execution_count": 19
        }
      ]
    },
    {
      "cell_type": "code",
      "metadata": {
        "colab": {
          "base_uri": "https://localhost:8080/"
        },
        "id": "-Gdb1U2v5TfU",
        "outputId": "287bc8fb-1b6e-4bf5-a9b5-0d7c863c648c"
      },
      "source": [
        "# List of mistakes in dictionary format as starting index, mistaken text, corrected text, definition of the corrected text\r\n",
        "\r\n",
        "for i in range(len(result['corrections'])):\r\n",
        "  print(result['corrections'][i])"
      ],
      "execution_count": 20,
      "outputs": [
        {
          "output_type": "stream",
          "text": [
            "{'start': 26, 'text': 'embarassing', 'correct': 'embarrassing', 'definition': 'hard to deal with; especially causing pain or embarrassment'}\n",
            "{'start': 0, 'text': 'Enland', 'correct': 'England', 'definition': 'a division of the United Kingdom'}\n"
          ],
          "name": "stdout"
        }
      ]
    },
    {
      "cell_type": "code",
      "metadata": {
        "colab": {
          "base_uri": "https://localhost:8080/"
        },
        "id": "5saHLX_e5ln_",
        "outputId": "2de9523d-c612-41e8-97ac-a8fcae7102a9"
      },
      "source": [
        "# Now Print the corrected text\r\n",
        "\r\n",
        "print(\"Original Text: \", result['text'])\r\n",
        "print(\"Corrected Text: \", result['result'])"
      ],
      "execution_count": 21,
      "outputs": [
        {
          "output_type": "stream",
          "text": [
            "Original Text:  Enland on Thursd suffered embarassing 10-wicket defeat in the third Test against India on a spin-friendly Motera track to go down 1-2 in the four-match series and the result garnered varied reactions from the British media.\n",
            "Corrected Text:  England on Thursd suffered embarrassing 10-wicket defeat in the third Test against India on a spin-friendly Motera track to go down 1-2 in the four-match series and the result garnered varied reactions from the British media.\n"
          ],
          "name": "stdout"
        }
      ]
    },
    {
      "cell_type": "code",
      "metadata": {
        "id": "sUWBz8gs5rAp"
      },
      "source": [
        ""
      ],
      "execution_count": null,
      "outputs": []
    }
  ]
}